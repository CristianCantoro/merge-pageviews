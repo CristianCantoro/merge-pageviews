{
 "cells": [
  {
   "cell_type": "code",
   "execution_count": 1,
   "metadata": {},
   "outputs": [
    {
     "name": "stderr",
     "output_type": "stream",
     "text": [
      "[2018-05-18 03:48:30,868][INFO]: Processing file: ./sorted_time/2007-12/pagecounts-20071210-070000.gz\n",
      "[2018-05-18 03:48:33,129][INFO]: Added DataFrame for file ./sorted_time/2007-12/pagecounts-20071210-070000.gz to list\n",
      "[2018-05-18 03:48:33,130][INFO]: Processing file: ./sorted_time/2007-12/pagecounts-20071210-200000.gz\n",
      "[2018-05-18 03:48:33,159][INFO]: Added DataFrame for file ./sorted_time/2007-12/pagecounts-20071210-200000.gz to list\n",
      "[2018-05-18 03:48:33,160][INFO]: Processing file: ./sorted_time/2007-12/pagecounts-20071210-000000.gz\n",
      "[2018-05-18 03:48:33,190][INFO]: Added DataFrame for file ./sorted_time/2007-12/pagecounts-20071210-000000.gz to list\n",
      "[2018-05-18 03:48:33,190][INFO]: Processing file: ./sorted_time/2007-12/pagecounts-20071210-130000.gz\n",
      "[2018-05-18 03:48:33,216][INFO]: Added DataFrame for file ./sorted_time/2007-12/pagecounts-20071210-130000.gz to list\n",
      "[2018-05-18 03:48:33,216][INFO]: Processing file: ./sorted_time/2007-12/pagecounts-20071210-160001.gz\n",
      "[2018-05-18 03:48:33,241][INFO]: Added DataFrame for file ./sorted_time/2007-12/pagecounts-20071210-160001.gz to list\n",
      "[2018-05-18 03:48:33,241][INFO]: Processing file: ./sorted_time/2007-12/pagecounts-20071210-190000.gz\n",
      "[2018-05-18 03:48:33,267][INFO]: Added DataFrame for file ./sorted_time/2007-12/pagecounts-20071210-190000.gz to list\n",
      "[2018-05-18 03:48:33,267][INFO]: Processing file: ./sorted_time/2007-12/pagecounts-20071210-080000.gz\n",
      "[2018-05-18 03:48:33,294][INFO]: Added DataFrame for file ./sorted_time/2007-12/pagecounts-20071210-080000.gz to list\n",
      "[2018-05-18 03:48:33,294][INFO]: Processing file: ./sorted_time/2007-12/pagecounts-20071210-140000.gz\n",
      "[2018-05-18 03:48:33,386][INFO]: Added DataFrame for file ./sorted_time/2007-12/pagecounts-20071210-140000.gz to list\n",
      "[2018-05-18 03:48:33,386][INFO]: Processing file: ./sorted_time/2007-12/pagecounts-20071210-110000.gz\n",
      "[2018-05-18 03:48:33,406][INFO]: Added DataFrame for file ./sorted_time/2007-12/pagecounts-20071210-110000.gz to list\n",
      "[2018-05-18 03:48:33,406][INFO]: Processing file: ./sorted_time/2007-12/pagecounts-20071210-020000.gz\n",
      "[2018-05-18 03:48:33,426][INFO]: Added DataFrame for file ./sorted_time/2007-12/pagecounts-20071210-020000.gz to list\n",
      "[2018-05-18 03:48:33,426][INFO]: Processing file: ./sorted_time/2007-12/pagecounts-20071210-010000.gz\n",
      "[2018-05-18 03:48:33,444][INFO]: Added DataFrame for file ./sorted_time/2007-12/pagecounts-20071210-010000.gz to list\n",
      "[2018-05-18 03:48:33,444][INFO]: Processing file: ./sorted_time/2007-12/pagecounts-20071210-220001.gz\n",
      "[2018-05-18 03:48:33,468][INFO]: Added DataFrame for file ./sorted_time/2007-12/pagecounts-20071210-220001.gz to list\n",
      "[2018-05-18 03:48:33,468][INFO]: Processing file: ./sorted_time/2007-12/pagecounts-20071210-180000.gz\n",
      "[2018-05-18 03:48:33,494][INFO]: Added DataFrame for file ./sorted_time/2007-12/pagecounts-20071210-180000.gz to list\n",
      "[2018-05-18 03:48:33,494][INFO]: Processing file: ./sorted_time/2007-12/pagecounts-20071210-050000.gz\n",
      "[2018-05-18 03:48:33,513][INFO]: Added DataFrame for file ./sorted_time/2007-12/pagecounts-20071210-050000.gz to list\n",
      "[2018-05-18 03:48:33,513][INFO]: Processing file: ./sorted_time/2007-12/pagecounts-20071210-060000.gz\n",
      "[2018-05-18 03:48:33,530][INFO]: Added DataFrame for file ./sorted_time/2007-12/pagecounts-20071210-060000.gz to list\n",
      "[2018-05-18 03:48:33,531][INFO]: Processing file: ./sorted_time/2007-12/pagecounts-20071210-170000.gz\n",
      "[2018-05-18 03:48:33,552][INFO]: Added DataFrame for file ./sorted_time/2007-12/pagecounts-20071210-170000.gz to list\n",
      "[2018-05-18 03:48:33,552][INFO]: Processing file: ./sorted_time/2007-12/pagecounts-20071210-230000.gz\n",
      "[2018-05-18 03:48:33,575][INFO]: Added DataFrame for file ./sorted_time/2007-12/pagecounts-20071210-230000.gz to list\n",
      "[2018-05-18 03:48:33,576][INFO]: Processing file: ./sorted_time/2007-12/pagecounts-20071210-150000.gz\n",
      "[2018-05-18 03:48:33,593][INFO]: Added DataFrame for file ./sorted_time/2007-12/pagecounts-20071210-150000.gz to list\n",
      "[2018-05-18 03:48:33,593][INFO]: Processing file: ./sorted_time/2007-12/pagecounts-20071210-040001.gz\n",
      "[2018-05-18 03:48:33,620][INFO]: Added DataFrame for file ./sorted_time/2007-12/pagecounts-20071210-040001.gz to list\n",
      "[2018-05-18 03:48:33,620][INFO]: Processing file: ./sorted_time/2007-12/pagecounts-20071210-120000.gz\n",
      "[2018-05-18 03:48:33,636][INFO]: Added DataFrame for file ./sorted_time/2007-12/pagecounts-20071210-120000.gz to list\n",
      "[2018-05-18 03:48:33,636][INFO]: Processing file: ./sorted_time/2007-12/pagecounts-20071210-090000.gz\n",
      "[2018-05-18 03:48:33,654][INFO]: Added DataFrame for file ./sorted_time/2007-12/pagecounts-20071210-090000.gz to list\n",
      "[2018-05-18 03:48:33,654][INFO]: Processing file: ./sorted_time/2007-12/pagecounts-20071210-030000.gz\n",
      "[2018-05-18 03:48:33,674][INFO]: Added DataFrame for file ./sorted_time/2007-12/pagecounts-20071210-030000.gz to list\n",
      "[2018-05-18 03:48:33,674][INFO]: Processing file: ./sorted_time/2007-12/pagecounts-20071210-100001.gz\n",
      "[2018-05-18 03:48:33,690][INFO]: Added DataFrame for file ./sorted_time/2007-12/pagecounts-20071210-100001.gz to list\n",
      "[2018-05-18 03:48:33,690][INFO]: Processing file: ./sorted_time/2007-12/pagecounts-20071210-210000.gz\n",
      "[2018-05-18 03:48:33,708][INFO]: Added DataFrame for file ./sorted_time/2007-12/pagecounts-20071210-210000.gz to list\n",
      "[2018-05-18 03:48:33,708][INFO]: Union of all Spark DataFrames.\n",
      "[2018-05-18 03:48:35,644][INFO]: Spark DataFrame created\n"
     ]
    }
   ],
   "source": [
    "%run -i ./import_pageviews_sorted_by_time_spark.py './sorted_time/2007-12/pagecounts-20071210-*.gz'"
   ]
  },
  {
   "cell_type": "code",
   "execution_count": 2,
   "metadata": {
    "scrolled": true
   },
   "outputs": [
    {
     "data": {
      "text/plain": [
       "[Row(lang='aa', page='Enqlizxsh_-_English', views=1, reqbytes=1, timestamp=datetime.datetime(2007, 12, 10, 7, 0)),\n",
       " Row(lang='aa', page='Special:Allmessages', views=1, reqbytes=1, timestamp=datetime.datetime(2007, 12, 10, 7, 0)),\n",
       " Row(lang='aa', page='Special:Imagelist', views=1, reqbytes=1, timestamp=datetime.datetime(2007, 12, 10, 7, 0)),\n",
       " Row(lang='aa', page='User:Ae%C3%A6', views=1, reqbytes=1, timestamp=datetime.datetime(2007, 12, 10, 7, 0)),\n",
       " Row(lang='ab', page='%D0%93%D0%B5%D0%BE%D0%B3%D1%80%D0%B0%D1%84%D0%B8', views=2, reqbytes=2, timestamp=datetime.datetime(2007, 12, 10, 7, 0)),\n",
       " Row(lang='ab', page='%D0%98%D1%85%D0%B0%D0%B4%D0%BE%D1%83_%D0%B0%D0%B4%D0%B0%D2%9F%D1%8C%D0%B0', views=1, reqbytes=1, timestamp=datetime.datetime(2007, 12, 10, 7, 0)),\n",
       " Row(lang='ab', page='%D0%A1%D0%BB%D1%83%D0%B6%D0%B5%D0%B1%D0%BD%D0%B0%D1%8F:Recentchangeslinked/2006', views=1, reqbytes=1, timestamp=datetime.datetime(2007, 12, 10, 7, 0)),\n",
       " Row(lang='ab', page='%D0%A1%D0%BB%D1%83%D0%B6%D0%B5%D0%B1%D0%BD%D0%B0%D1%8F:Whatlinkshere/2006', views=1, reqbytes=1, timestamp=datetime.datetime(2007, 12, 10, 7, 0)),\n",
       " Row(lang='ab', page='%D0%A1%D0%BF%D1%80%D0%B0%D0%B2%D0%BA%D0%B0:%D0%A1%D0%BF%D1%80%D0%B0%D0%B2%D0%BA%D0%B0', views=1, reqbytes=1, timestamp=datetime.datetime(2007, 12, 10, 7, 0)),\n",
       " Row(lang='ab', page='%D0%A3%D1%87%D0%B0%D1%81%D1%82%D0%BD%D0%B8%D0%BA:AlleborgoBot', views=1, reqbytes=1, timestamp=datetime.datetime(2007, 12, 10, 7, 0))]"
      ]
     },
     "execution_count": 2,
     "metadata": {},
     "output_type": "execute_result"
    }
   ],
   "source": [
    "df.head(10)"
   ]
  },
  {
   "cell_type": "code",
   "execution_count": 3,
   "metadata": {},
   "outputs": [
    {
     "data": {
      "text/plain": [
       "78071097"
      ]
     },
     "execution_count": 3,
     "metadata": {},
     "output_type": "execute_result"
    }
   ],
   "source": [
    "df.count()"
   ]
  },
  {
   "cell_type": "code",
   "execution_count": 4,
   "metadata": {},
   "outputs": [],
   "source": [
    "df = df.drop('reqbytes')"
   ]
  },
  {
   "cell_type": "code",
   "execution_count": 5,
   "metadata": {
    "scrolled": true
   },
   "outputs": [
    {
     "data": {
      "text/plain": [
       "[('lang', 'string'),\n",
       " ('page', 'string'),\n",
       " ('views', 'int'),\n",
       " ('timestamp', 'timestamp')]"
      ]
     },
     "execution_count": 5,
     "metadata": {},
     "output_type": "execute_result"
    }
   ],
   "source": [
    "df.dtypes"
   ]
  },
  {
   "cell_type": "code",
   "execution_count": 6,
   "metadata": {
    "scrolled": true
   },
   "outputs": [],
   "source": [
    "# grouped_df = df.groupby(['lang','page', df.timestamp.dt.day], as_index=False)\n",
    "\n",
    "from pyspark.sql import functions\n",
    "grouped_df = (df.select(['lang','page',functions.date_format('timestamp','yyyy-MM-dd').alias('day'), 'views'])\n",
    "                .groupby(['lang','page','day'])\n",
    "                .sum('views').alias('sum_views')\n",
    "                )"
   ]
  },
  {
   "cell_type": "code",
   "execution_count": 7,
   "metadata": {},
   "outputs": [
    {
     "data": {
      "text/plain": [
       "[Row(lang='af', page='1920', day='2007-12-10', sum(views)=13),\n",
       " Row(lang='af', page='51', day='2007-12-10', sum(views)=1),\n",
       " Row(lang='af', page='Esperanto', day='2007-12-10', sum(views)=11),\n",
       " Row(lang='af', page='New', day='2007-12-10', sum(views)=1),\n",
       " Row(lang='als', page='Weltwunder', day='2007-12-10', sum(views)=6),\n",
       " Row(lang='am', page='%E1%89%B3%E1%8A%95%E1%8B%9B%E1%8A%92%E1%8B%AB', day='2007-12-10', sum(views)=10),\n",
       " Row(lang='am', page='Category:%E1%8B%A8%E1%8A%A0%E1%8D%8D%E1%88%AA%E1%8A%AB_%E1%8A%A0%E1%8C%88%E1%88%AB%E1%89%B5', day='2007-12-10', sum(views)=5),\n",
       " Row(lang='an', page='2003', day='2007-12-10', sum(views)=22),\n",
       " Row(lang='an', page='A', day='2007-12-10', sum(views)=1),\n",
       " Row(lang='an', page='Madagascar', day='2007-12-10', sum(views)=8)]"
      ]
     },
     "execution_count": 7,
     "metadata": {},
     "output_type": "execute_result"
    }
   ],
   "source": [
    "grouped_df.head(10)"
   ]
  },
  {
   "cell_type": "code",
   "execution_count": 8,
   "metadata": {},
   "outputs": [
    {
     "name": "stdout",
     "output_type": "stream",
     "text": [
      "+----+------------+----------+----------+\n",
      "|lang|        page|       day|sum(views)|\n",
      "+----+------------+----------+----------+\n",
      "|  en|Albert_Camus|2007-12-10|      2908|\n",
      "+----+------------+----------+----------+\n",
      "\n"
     ]
    }
   ],
   "source": [
    "from pyspark.sql.functions import col\n",
    "\n",
    "grouped_df.select(['lang','page','day','sum(views)']).where((col(\"lang\") == \"en\") & (col(\"page\") == \"Albert_Camus\")).show()"
   ]
  },
  {
   "cell_type": "code",
   "execution_count": null,
   "metadata": {},
   "outputs": [],
   "source": []
  }
 ],
 "metadata": {
  "kernelspec": {
   "display_name": "Python 3",
   "language": "python",
   "name": "python3"
  },
  "language_info": {
   "codemirror_mode": {
    "name": "ipython",
    "version": 3
   },
   "file_extension": ".py",
   "mimetype": "text/x-python",
   "name": "python",
   "nbconvert_exporter": "python",
   "pygments_lexer": "ipython3",
   "version": "3.6.5"
  }
 },
 "nbformat": 4,
 "nbformat_minor": 2
}
