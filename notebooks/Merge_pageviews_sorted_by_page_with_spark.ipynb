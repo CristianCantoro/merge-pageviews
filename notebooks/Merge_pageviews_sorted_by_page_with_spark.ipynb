{
 "cells": [
  {
   "cell_type": "code",
   "execution_count": 1,
   "metadata": {},
   "outputs": [],
   "source": [
    "%run -i import_pageviews_sorted_by_page_spark.py 'sorted_page/2017-12/part-00000.gz'"
   ]
  },
  {
   "cell_type": "code",
   "execution_count": 2,
   "metadata": {},
   "outputs": [],
   "source": [
    "# df.head(10)\n",
    "# df.count()"
   ]
  },
  {
   "cell_type": "code",
   "execution_count": 3,
   "metadata": {},
   "outputs": [],
   "source": [
    "df = df.drop('reqbytes')"
   ]
  },
  {
   "cell_type": "code",
   "execution_count": 4,
   "metadata": {},
   "outputs": [
    {
     "data": {
      "text/plain": [
       "[('lang', 'string'),\n",
       " ('page', 'string'),\n",
       " ('timestamp', 'timestamp'),\n",
       " ('views', 'int')]"
      ]
     },
     "execution_count": 4,
     "metadata": {},
     "output_type": "execute_result"
    }
   ],
   "source": [
    "df.dtypes"
   ]
  },
  {
   "cell_type": "code",
   "execution_count": 22,
   "metadata": {
    "scrolled": true
   },
   "outputs": [],
   "source": [
    "# grouped_df = df.groupby(['lang','page', df.timestamp.dt.day], as_index=False)\n",
    "\n",
    "from pyspark.sql import functions\n",
    "grouped_df = (df.select(['lang','page',functions.date_format('timestamp','yyyy-MM-dd').alias('day'), 'views'])\n",
    "                .groupby(['lang','page','day'])\n",
    "                .sum('views')\n",
    "                )"
   ]
  },
  {
   "cell_type": "code",
   "execution_count": 23,
   "metadata": {},
   "outputs": [
    {
     "data": {
      "text/plain": [
       "[Row(lang='aa', page='5%3B_URL%3Dhttp%3A//aa.wikipedia.org/wiki/5%3B_URL%3Dhttp%3A//aa.wikipedia.org/wiki/text/text/Content-Type', day='2007-12-12', sum(views)=1),\n",
       " Row(lang='aa', page='71.107.0.0/text/text/User_talk%3A71.107.0.0/text/text/User_talk%3A71.107.0.0/text/text/User_talk%3A71.107.0.0/text/text/noindex%2Cnofollow', day='2007-12-13', sum(views)=1),\n",
       " Row(lang='aa', page='90.156.169.224/90.156.169.224/noindex%2Cnofollow', day='2007-12-14', sum(views)=1),\n",
       " Row(lang='aa', page='Arvidsjaur%20Municipality', day='2007-12-12', sum(views)=1),\n",
       " Row(lang='aa', page='Http%3A//himanhimanioum.chat.ru/man%3F', day='2007-12-18', sum(views)=14),\n",
       " Row(lang='aa', page='Image%3AEurope_all_states.png', day='2007-12-25', sum(views)=1),\n",
       " Row(lang='aa', page='LaTeX', day='2007-12-13', sum(views)=1),\n",
       " Row(lang='aa', page='MediaWiki%3AEmailflag', day='2007-12-14', sum(views)=1),\n",
       " Row(lang='aa', page='MediaWiki%3AExif-filesource', day='2007-12-14', sum(views)=1),\n",
       " Row(lang='aa', page='MediaWiki%3AExif-lightsource-17', day='2007-12-14', sum(views)=1)]"
      ]
     },
     "execution_count": 23,
     "metadata": {},
     "output_type": "execute_result"
    }
   ],
   "source": [
    "grouped_df.head(10)"
   ]
  }
 ],
 "metadata": {
  "kernelspec": {
   "display_name": "Python 3",
   "language": "python",
   "name": "python3"
  },
  "language_info": {
   "codemirror_mode": {
    "name": "ipython",
    "version": 3
   },
   "file_extension": ".py",
   "mimetype": "text/x-python",
   "name": "python",
   "nbconvert_exporter": "python",
   "pygments_lexer": "ipython3",
   "version": "3.6.5"
  }
 },
 "nbformat": 4,
 "nbformat_minor": 2
}
